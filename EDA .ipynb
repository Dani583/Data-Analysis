{
 "cells": [
  {
   "cell_type": "code",
   "execution_count": 1,
   "id": "981f806c",
   "metadata": {},
   "outputs": [],
   "source": [
    "import numpy as np\n",
    "import pandas as pd\n",
    "import matplotlib.pyplot as plt\n",
    "import seaborn as sns\n",
    "sns.set_style(\"darkgrid\")\n",
    "from sklearn.model_selection import train_test_split"
   ]
  },
  {
   "cell_type": "code",
   "execution_count": 3,
   "id": "eca19cd0",
   "metadata": {},
   "outputs": [
    {
     "name": "stdout",
     "output_type": "stream",
     "text": [
      "   id    Season       city        date                        team1  \\\n",
      "0   1  IPL-2017  Hyderabad  05-04-2017          Sunrisers Hyderabad   \n",
      "1   2  IPL-2017       Pune  06-04-2017               Mumbai Indians   \n",
      "2   3  IPL-2017     Rajkot  07-04-2017                Gujarat Lions   \n",
      "3   4  IPL-2017     Indore  08-04-2017       Rising Pune Supergiant   \n",
      "4   5  IPL-2017  Bangalore  08-04-2017  Royal Challengers Bangalore   \n",
      "\n",
      "                         team2                  toss_winner toss_decision  \\\n",
      "0  Royal Challengers Bangalore  Royal Challengers Bangalore         field   \n",
      "1       Rising Pune Supergiant       Rising Pune Supergiant         field   \n",
      "2        Kolkata Knight Riders        Kolkata Knight Riders         field   \n",
      "3              Kings XI Punjab              Kings XI Punjab         field   \n",
      "4             Delhi Daredevils  Royal Challengers Bangalore           bat   \n",
      "\n",
      "   result  dl_applied                       winner  win_by_runs  \\\n",
      "0  normal           0          Sunrisers Hyderabad           35   \n",
      "1  normal           0       Rising Pune Supergiant            0   \n",
      "2  normal           0        Kolkata Knight Riders            0   \n",
      "3  normal           0              Kings XI Punjab            0   \n",
      "4  normal           0  Royal Challengers Bangalore           15   \n",
      "\n",
      "   win_by_wickets player_of_match                                      venue  \\\n",
      "0               0    Yuvraj Singh  Rajiv Gandhi International Stadium, Uppal   \n",
      "1               7       SPD Smith    Maharashtra Cricket Association Stadium   \n",
      "2              10         CA Lynn     Saurashtra Cricket Association Stadium   \n",
      "3               6      GJ Maxwell                     Holkar Cricket Stadium   \n",
      "4               0       KM Jadhav                      M Chinnaswamy Stadium   \n",
      "\n",
      "          umpire1        umpire2 umpire3  \n",
      "0     AY Dandekar       NJ Llong     NaN  \n",
      "1  A Nand Kishore         S Ravi     NaN  \n",
      "2     Nitin Menon      CK Nandan     NaN  \n",
      "3    AK Chaudhary  C Shamshuddin     NaN  \n",
      "4             NaN            NaN     NaN  \n"
     ]
    }
   ],
   "source": [
    "df = pd.read_csv(\"E:\\Data\\matches.csv\")\n",
    "print(df.head())"
   ]
  },
  {
   "cell_type": "code",
   "execution_count": 4,
   "id": "6e52843f",
   "metadata": {},
   "outputs": [],
   "source": [
    "df = df.drop(columns=['umpire3'])\n",
    "df= df.dropna()"
   ]
  },
  {
   "cell_type": "markdown",
   "id": "c4729213",
   "metadata": {},
   "source": [
    "# Converting date column in to Datetime"
   ]
  },
  {
   "cell_type": "code",
   "execution_count": 5,
   "id": "abd8fb62",
   "metadata": {},
   "outputs": [],
   "source": [
    "df['date']= pd.to_datetime(df['date'],format=\"%d-%m-%Y\")"
   ]
  },
  {
   "cell_type": "code",
   "execution_count": 6,
   "id": "f437e935",
   "metadata": {},
   "outputs": [],
   "source": [
    "df['Month'] = df.date.dt.month\n",
    "df['Year'] = df.date.dt.year\n"
   ]
  },
  {
   "cell_type": "code",
   "execution_count": 7,
   "id": "eb3de9e5",
   "metadata": {},
   "outputs": [
    {
     "name": "stdout",
     "output_type": "stream",
     "text": [
      "<class 'pandas.core.frame.DataFrame'>\n",
      "Int64Index: 743 entries, 0 to 755\n",
      "Data columns (total 19 columns):\n",
      " #   Column           Non-Null Count  Dtype         \n",
      "---  ------           --------------  -----         \n",
      " 0   id               743 non-null    int64         \n",
      " 1   Season           743 non-null    object        \n",
      " 2   city             743 non-null    object        \n",
      " 3   date             743 non-null    datetime64[ns]\n",
      " 4   team1            743 non-null    object        \n",
      " 5   team2            743 non-null    object        \n",
      " 6   toss_winner      743 non-null    object        \n",
      " 7   toss_decision    743 non-null    object        \n",
      " 8   result           743 non-null    object        \n",
      " 9   dl_applied       743 non-null    int64         \n",
      " 10  winner           743 non-null    object        \n",
      " 11  win_by_runs      743 non-null    int64         \n",
      " 12  win_by_wickets   743 non-null    int64         \n",
      " 13  player_of_match  743 non-null    object        \n",
      " 14  venue            743 non-null    object        \n",
      " 15  umpire1          743 non-null    object        \n",
      " 16  umpire2          743 non-null    object        \n",
      " 17  Month            743 non-null    int64         \n",
      " 18  Year             743 non-null    int64         \n",
      "dtypes: datetime64[ns](1), int64(6), object(12)\n",
      "memory usage: 116.1+ KB\n"
     ]
    }
   ],
   "source": [
    "df.info()"
   ]
  },
  {
   "cell_type": "markdown",
   "id": "70ee4f89",
   "metadata": {},
   "source": [
    "# Visualize How many match played in particular season w.r.t Year and Month."
   ]
  },
  {
   "cell_type": "code",
   "execution_count": 9,
   "id": "f291dbe8",
   "metadata": {},
   "outputs": [
    {
     "data": {
      "image/png": "[encoded data removed]",
      "text/plain": [
       "<Figure size 1440x720 with 1 Axes>"
      ]
     },
     "metadata": {},
     "output_type": "display_data"
    }
   ],
   "source": [
    "fig_dims = (20, 10)\n",
    "fig, ax = plt.subplots(figsize=fig_dims)\n",
    "sns.countplot(x='Year', hue='Month',data=df)\n",
    "plt.xticks(size=10);\n",
    "plt.show()"
   ]
  },
  {
   "cell_type": "code",
   "execution_count": null,
   "id": "f52e7352",
   "metadata": {},
   "outputs": [],
   "source": []
  }
 ],
 "metadata": {
  "kernelspec": {
   "display_name": "Python 3 (ipykernel)",
   "language": "python",
   "name": "python3"
  },
  "language_info": {
   "codemirror_mode": {
    "name": "ipython",
    "version": 3
   },
   "file_extension": ".py",
   "mimetype": "text/x-python",
   "name": "python",
   "nbconvert_exporter": "python",
   "pygments_lexer": "ipython3",
   "version": "3.9.7"
  }
 },
 "nbformat": 4,
 "nbformat_minor": 5
}
