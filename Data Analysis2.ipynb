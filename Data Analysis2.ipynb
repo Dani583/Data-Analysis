{
 "cells": [
  {
   "cell_type": "code",
   "execution_count": 1,
   "id": "e067cc23",
   "metadata": {},
   "outputs": [],
   "source": [
    "import numpy as np\n",
    "import pandas as pd\n",
    "import matplotlib.pyplot as plt\n",
    "import seaborn as sns\n",
    "sns.set_style(\"darkgrid\")\n",
    "from sklearn.model_selection import train_test_split\n",
    "from sklearn import tree\n",
    "from sklearn import linear_model\n",
    "from sklearn.naive_bayes import GaussianNB\n",
    "from sklearn.neighbors import KNeighborsRegressor\n",
    "from sklearn.metrics import mean_squared_error, mean_absolute_error\n",
    "from sklearn import svm\n",
    "from sklearn.cluster import KMeans"
   ]
  },
  {
   "cell_type": "code",
   "execution_count": 3,
   "id": "843781be",
   "metadata": {},
   "outputs": [
    {
     "data": {
      "text/html": [
       "<div>\n",
       "<style scoped>\n",
       "    .dataframe tbody tr th:only-of-type {\n",
       "        vertical-align: middle;\n",
       "    }\n",
       "\n",
       "    .dataframe tbody tr th {\n",
       "        vertical-align: top;\n",
       "    }\n",
       "\n",
       "    .dataframe thead th {\n",
       "        text-align: right;\n",
       "    }\n",
       "</style>\n",
       "<table border=\"1\" class=\"dataframe\">\n",
       "  <thead>\n",
       "    <tr style=\"text-align: right;\">\n",
       "      <th></th>\n",
       "      <th>Unnamed: 0</th>\n",
       "      <th>mark</th>\n",
       "      <th>model</th>\n",
       "      <th>generation_name</th>\n",
       "      <th>year</th>\n",
       "      <th>mileage</th>\n",
       "      <th>vol_engine</th>\n",
       "      <th>fuel</th>\n",
       "      <th>city</th>\n",
       "      <th>province</th>\n",
       "      <th>price</th>\n",
       "    </tr>\n",
       "  </thead>\n",
       "  <tbody>\n",
       "    <tr>\n",
       "      <th>0</th>\n",
       "      <td>0</td>\n",
       "      <td>opel</td>\n",
       "      <td>combo</td>\n",
       "      <td>gen-d-2011</td>\n",
       "      <td>2015</td>\n",
       "      <td>139568</td>\n",
       "      <td>1248</td>\n",
       "      <td>Diesel</td>\n",
       "      <td>Janki</td>\n",
       "      <td>Mazowieckie</td>\n",
       "      <td>35900</td>\n",
       "    </tr>\n",
       "    <tr>\n",
       "      <th>1</th>\n",
       "      <td>1</td>\n",
       "      <td>opel</td>\n",
       "      <td>combo</td>\n",
       "      <td>gen-d-2011</td>\n",
       "      <td>2018</td>\n",
       "      <td>31991</td>\n",
       "      <td>1499</td>\n",
       "      <td>Diesel</td>\n",
       "      <td>Katowice</td>\n",
       "      <td>Śląskie</td>\n",
       "      <td>78501</td>\n",
       "    </tr>\n",
       "    <tr>\n",
       "      <th>2</th>\n",
       "      <td>2</td>\n",
       "      <td>opel</td>\n",
       "      <td>combo</td>\n",
       "      <td>gen-d-2011</td>\n",
       "      <td>2015</td>\n",
       "      <td>278437</td>\n",
       "      <td>1598</td>\n",
       "      <td>Diesel</td>\n",
       "      <td>Brzeg</td>\n",
       "      <td>Opolskie</td>\n",
       "      <td>27000</td>\n",
       "    </tr>\n",
       "    <tr>\n",
       "      <th>3</th>\n",
       "      <td>3</td>\n",
       "      <td>opel</td>\n",
       "      <td>combo</td>\n",
       "      <td>gen-d-2011</td>\n",
       "      <td>2016</td>\n",
       "      <td>47600</td>\n",
       "      <td>1248</td>\n",
       "      <td>Diesel</td>\n",
       "      <td>Korfantów</td>\n",
       "      <td>Opolskie</td>\n",
       "      <td>30800</td>\n",
       "    </tr>\n",
       "    <tr>\n",
       "      <th>4</th>\n",
       "      <td>4</td>\n",
       "      <td>opel</td>\n",
       "      <td>combo</td>\n",
       "      <td>gen-d-2011</td>\n",
       "      <td>2014</td>\n",
       "      <td>103000</td>\n",
       "      <td>1400</td>\n",
       "      <td>CNG</td>\n",
       "      <td>Tarnowskie Góry</td>\n",
       "      <td>Śląskie</td>\n",
       "      <td>35900</td>\n",
       "    </tr>\n",
       "  </tbody>\n",
       "</table>\n",
       "</div>"
      ],
      "text/plain": [
       "   Unnamed: 0  mark  model generation_name  year  mileage  vol_engine    fuel             city     province  price\n",
       "0           0  opel  combo      gen-d-2011  2015   139568        1248  Diesel            Janki  Mazowieckie  35900\n",
       "1           1  opel  combo      gen-d-2011  2018    31991        1499  Diesel         Katowice      Śląskie  78501\n",
       "2           2  opel  combo      gen-d-2011  2015   278437        1598  Diesel            Brzeg     Opolskie  27000\n",
       "3           3  opel  combo      gen-d-2011  2016    47600        1248  Diesel        Korfantów     Opolskie  30800\n",
       "4           4  opel  combo      gen-d-2011  2014   103000        1400     CNG  Tarnowskie Góry      Śląskie  35900"
      ]
     },
     "execution_count": 3,
     "metadata": {},
     "output_type": "execute_result"
    }
   ],
   "source": [
    "df = pd.read_csv(\"E:\\Data]Carprice.csv\")\n",
    "pd.set_option('display.max_columns', 20)\n",
    "pd.set_option('display.max_rows', 1000)\n",
    "pd.set_option('display.width', 1000)\n",
    "df.head()"
   ]
  },
  {
   "cell_type": "code",
   "execution_count": 4,
   "id": "f59138fe",
   "metadata": {},
   "outputs": [
    {
     "data": {
      "text/plain": [
       "Unnamed: 0             0\n",
       "mark                   0\n",
       "model                  0\n",
       "generation_name    30085\n",
       "year                   0\n",
       "mileage                0\n",
       "vol_engine             0\n",
       "fuel                   0\n",
       "city                   0\n",
       "province               0\n",
       "price                  0\n",
       "dtype: int64"
      ]
     },
     "execution_count": 4,
     "metadata": {},
     "output_type": "execute_result"
    }
   ],
   "source": [
    "df.isna().sum()"
   ]
  },
  {
   "cell_type": "code",
   "execution_count": 5,
   "id": "2a220776",
   "metadata": {},
   "outputs": [],
   "source": [
    "df= df.dropna()"
   ]
  },
  {
   "cell_type": "code",
   "execution_count": null,
   "id": "7a1dd05a",
   "metadata": {},
   "outputs": [],
   "source": [
    "df[\"fuel\"] = df[\"fuel\"].replace(['Gasoline'],1)\n",
    "df[\"fuel\"] = df[\"fuel\"].replace(['Diesel'],2)\n",
    "df[\"fuel\"] = df[\"fuel\"].replace(['LPG'],3)\n",
    "df[\"fuel\"] = df[\"fuel\"].replace(['Hybrid'],4)\n",
    "df[\"fuel\"] = df[\"fuel\"].replace(['Electric'],5)\n",
    "df[\"fuel\"] = df[\"fuel\"].replace(['CNG'],6)\n",
    "print(df.info())"
   ]
  },
  {
   "cell_type": "code",
   "execution_count": 7,
   "id": "bd4ec393",
   "metadata": {},
   "outputs": [],
   "source": [
    "df_data = df.iloc[:, 4:8]\n",
    "df_target = df.loc[: ,['price']]\n",
    "\n",
    "X_train,X_test,Y_train,Y_test = train_test_split(df_data, df_target, train_size=0.7)"
   ]
  },
  {
   "cell_type": "markdown",
   "id": "c434fdc3",
   "metadata": {},
   "source": [
    "# Decision Tree"
   ]
  },
  {
   "cell_type": "code",
   "execution_count": 8,
   "id": "eb2d5b3e",
   "metadata": {},
   "outputs": [],
   "source": [
    "DT = tree.DecisionTreeClassifier(max_depth=3, random_state=42)\n",
    "DT.fit(X_train, Y_train)\n",
    "y_pred_DT = pd.DataFrame(DT.predict(X_test))"
   ]
  },
  {
   "cell_type": "code",
   "execution_count": 11,
   "id": "6df350d6",
   "metadata": {},
   "outputs": [
    {
     "name": "stdout",
     "output_type": "stream",
     "text": [
      "27578.734072022162\n",
      "4037459494.700224\n",
      "0.023868250294084164\n",
      "63541.00640295386\n"
     ]
    }
   ],
   "source": [
    "print(mean_absolute_error(Y_test , y_pred_DT))\n",
    "print(mean_squared_error(Y_test , y_pred_DT))\n",
    "print(DT.score(X_test,Y_test))\n",
    "print(np.sqrt(mean_squared_error(Y_test , y_pred_DT)))"
   ]
  },
  {
   "cell_type": "markdown",
   "id": "51bd12b3",
   "metadata": {},
   "source": [
    "# LinearRegression"
   ]
  },
  {
   "cell_type": "code",
   "execution_count": 12,
   "id": "c090431c",
   "metadata": {},
   "outputs": [],
   "source": [
    "reg = linear_model.LinearRegression()\n",
    "reg.fit(X_train, Y_train)\n",
    "\n",
    "y_pred_reg = pd.DataFrame(reg.predict(X_test))\n"
   ]
  },
  {
   "cell_type": "code",
   "execution_count": 13,
   "id": "3265e55b",
   "metadata": {},
   "outputs": [
    {
     "name": "stdout",
     "output_type": "stream",
     "text": [
      "29673.91639481962\n",
      "2305535397.3077126\n",
      "0.5989231889115476\n",
      "48015.99105826842\n"
     ]
    }
   ],
   "source": [
    "print(mean_absolute_error(Y_test , y_pred_reg))\n",
    "print(mean_squared_error(Y_test , y_pred_reg))\n",
    "print(reg.score(X_test,Y_test))\n",
    "print(np.sqrt(mean_squared_error(Y_test , y_pred_reg)))"
   ]
  },
  {
   "cell_type": "markdown",
   "id": "0a3d9e1c",
   "metadata": {},
   "source": [
    "# GaussianNB"
   ]
  },
  {
   "cell_type": "code",
   "execution_count": 15,
   "id": "4209ca09",
   "metadata": {},
   "outputs": [
    {
     "name": "stderr",
     "output_type": "stream",
     "text": [
      "C:\\Users\\Danish Iqbal\\anaconda3\\lib\\site-packages\\sklearn\\utils\\validation.py:63: DataConversionWarning: A column-vector y was passed when a 1d array was expected. Please change the shape of y to (n_samples, ), for example using ravel().\n",
      "  return f(*args, **kwargs)\n"
     ]
    }
   ],
   "source": [
    "NB= GaussianNB()\n",
    "NB.fit(X_train, Y_train)\n",
    "\n",
    "y_pred_NB = pd.DataFrame(NB.predict(X_test))"
   ]
  },
  {
   "cell_type": "code",
   "execution_count": 16,
   "id": "9d62f348",
   "metadata": {},
   "outputs": [
    {
     "name": "stdout",
     "output_type": "stream",
     "text": [
      "24655.92156490722\n",
      "2051251491.5222936\n",
      "0.019314689029711986\n",
      "45290.7439939144\n"
     ]
    }
   ],
   "source": [
    "print(mean_absolute_error(Y_test , y_pred_NB))\n",
    "print(mean_squared_error(Y_test , y_pred_NB))\n",
    "print(NB.score(X_test,Y_test))\n",
    "print(np.sqrt(mean_squared_error(Y_test , y_pred_NB)))"
   ]
  },
  {
   "cell_type": "markdown",
   "id": "0a98a1fa",
   "metadata": {},
   "source": [
    "# KNeighborsRegressor"
   ]
  },
  {
   "cell_type": "code",
   "execution_count": 17,
   "id": "0f7d6eed",
   "metadata": {},
   "outputs": [],
   "source": [
    "knn = KNeighborsRegressor(n_neighbors=3)\n",
    "knn.fit(X_train, Y_train)\n",
    "\n",
    "y_pred_knn = pd.DataFrame(knn.predict(X_test))"
   ]
  },
  {
   "cell_type": "code",
   "execution_count": 18,
   "id": "60a95050",
   "metadata": {},
   "outputs": [
    {
     "name": "stdout",
     "output_type": "stream",
     "text": [
      "21248.219418409033\n",
      "1433266777.9701784\n",
      "0.750665260043901\n",
      "37858.50998085078\n"
     ]
    }
   ],
   "source": [
    "print(mean_absolute_error(Y_test , y_pred_knn))\n",
    "print(mean_squared_error(Y_test , y_pred_knn))\n",
    "print(knn.score(X_test,Y_test))\n",
    "print(np.sqrt(mean_squared_error(Y_test , y_pred_knn)))"
   ]
  },
  {
   "cell_type": "markdown",
   "id": "49e0ff15",
   "metadata": {},
   "source": [
    "# KMeans"
   ]
  },
  {
   "cell_type": "code",
   "execution_count": 21,
   "id": "e7ea56a8",
   "metadata": {},
   "outputs": [],
   "source": [
    "km = KMeans()\n",
    "km.fit(X_train, Y_train)\n",
    "\n",
    "y_pred_km = pd.DataFrame(km.predict(X_test))"
   ]
  },
  {
   "cell_type": "code",
   "execution_count": 22,
   "id": "7cb443cc",
   "metadata": {},
   "outputs": [
    {
     "name": "stdout",
     "output_type": "stream",
     "text": [
      "63381.790308503776\n",
      "9765609742.632793\n",
      "-8164962537278.784\n",
      "98821.09968338136\n"
     ]
    }
   ],
   "source": [
    "print(mean_absolute_error(Y_test , y_pred_km))\n",
    "print(mean_squared_error(Y_test , y_pred_km))\n",
    "print(km.score(X_test,Y_test))\n",
    "print(np.sqrt(mean_squared_error(Y_test , y_pred_km)))"
   ]
  },
  {
   "cell_type": "code",
   "execution_count": null,
   "id": "77bfc522",
   "metadata": {},
   "outputs": [],
   "source": []
  }
 ],
 "metadata": {
  "kernelspec": {
   "display_name": "Python 3 (ipykernel)",
   "language": "python",
   "name": "python3"
  },
  "language_info": {
   "codemirror_mode": {
    "name": "ipython",
    "version": 3
   },
   "file_extension": ".py",
   "mimetype": "text/x-python",
   "name": "python",
   "nbconvert_exporter": "python",
   "pygments_lexer": "ipython3",
   "version": "3.9.7"
  }
 },
 "nbformat": 4,
 "nbformat_minor": 5
}
