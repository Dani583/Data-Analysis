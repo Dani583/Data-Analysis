{
 "cells": [
  {
   "cell_type": "markdown",
   "id": "c119cacc",
   "metadata": {},
   "source": [
    "# Importing Libraries"
   ]
  },
  {
   "cell_type": "code",
   "execution_count": 1,
   "id": "8effc9d3",
   "metadata": {},
   "outputs": [],
   "source": [
    "import numpy as np\n",
    "import pandas as pd\n",
    "import matplotlib.pyplot as plt\n",
    "import seaborn as sns\n",
    "sns.set_style(\"darkgrid\")\n",
    "from sklearn.model_selection import train_test_split\n",
    "from sklearn import tree\n",
    "from sklearn import linear_model"
   ]
  },
  {
   "cell_type": "code",
   "execution_count": 15,
   "id": "4f8759f4",
   "metadata": {},
   "outputs": [
    {
     "data": {
      "text/html": [
       "<div>\n",
       "<style scoped>\n",
       "    .dataframe tbody tr th:only-of-type {\n",
       "        vertical-align: middle;\n",
       "    }\n",
       "\n",
       "    .dataframe tbody tr th {\n",
       "        vertical-align: top;\n",
       "    }\n",
       "\n",
       "    .dataframe thead th {\n",
       "        text-align: right;\n",
       "    }\n",
       "</style>\n",
       "<table border=\"1\" class=\"dataframe\">\n",
       "  <thead>\n",
       "    <tr style=\"text-align: right;\">\n",
       "      <th></th>\n",
       "      <th>position</th>\n",
       "      <th>change in position from 2020</th>\n",
       "      <th>city</th>\n",
       "      <th>country</th>\n",
       "      <th>total score</th>\n",
       "      <th>quatity score</th>\n",
       "      <th>quality score</th>\n",
       "      <th>business score</th>\n",
       "      <th>sign of change in position</th>\n",
       "    </tr>\n",
       "  </thead>\n",
       "  <tbody>\n",
       "    <tr>\n",
       "      <th>0</th>\n",
       "      <td>1</td>\n",
       "      <td>0</td>\n",
       "      <td>San Francisco Bay</td>\n",
       "      <td>United States</td>\n",
       "      <td>328.966</td>\n",
       "      <td>29.14</td>\n",
       "      <td>296.02</td>\n",
       "      <td>3.80</td>\n",
       "      <td>NaN</td>\n",
       "    </tr>\n",
       "    <tr>\n",
       "      <th>1</th>\n",
       "      <td>2</td>\n",
       "      <td>0</td>\n",
       "      <td>New York</td>\n",
       "      <td>United States</td>\n",
       "      <td>110.777</td>\n",
       "      <td>11.43</td>\n",
       "      <td>95.55</td>\n",
       "      <td>3.80</td>\n",
       "      <td>NaN</td>\n",
       "    </tr>\n",
       "    <tr>\n",
       "      <th>2</th>\n",
       "      <td>3</td>\n",
       "      <td>3</td>\n",
       "      <td>Beijing</td>\n",
       "      <td>China</td>\n",
       "      <td>66.049</td>\n",
       "      <td>5.01</td>\n",
       "      <td>58.61</td>\n",
       "      <td>2.43</td>\n",
       "      <td>+</td>\n",
       "    </tr>\n",
       "    <tr>\n",
       "      <th>3</th>\n",
       "      <td>4</td>\n",
       "      <td>1</td>\n",
       "      <td>Los Angeles Area</td>\n",
       "      <td>United States</td>\n",
       "      <td>58.441</td>\n",
       "      <td>11.23</td>\n",
       "      <td>43.41</td>\n",
       "      <td>3.80</td>\n",
       "      <td>+</td>\n",
       "    </tr>\n",
       "    <tr>\n",
       "      <th>4</th>\n",
       "      <td>5</td>\n",
       "      <td>2</td>\n",
       "      <td>London</td>\n",
       "      <td>United Kingdom</td>\n",
       "      <td>56.913</td>\n",
       "      <td>15.77</td>\n",
       "      <td>37.44</td>\n",
       "      <td>3.70</td>\n",
       "      <td>-</td>\n",
       "    </tr>\n",
       "    <tr>\n",
       "      <th>5</th>\n",
       "      <td>6</td>\n",
       "      <td>2</td>\n",
       "      <td>Boston Area</td>\n",
       "      <td>United States</td>\n",
       "      <td>49.835</td>\n",
       "      <td>5.50</td>\n",
       "      <td>40.53</td>\n",
       "      <td>3.80</td>\n",
       "      <td>-</td>\n",
       "    </tr>\n",
       "    <tr>\n",
       "      <th>6</th>\n",
       "      <td>7</td>\n",
       "      <td>3</td>\n",
       "      <td>Shanghai</td>\n",
       "      <td>China</td>\n",
       "      <td>42.162</td>\n",
       "      <td>3.57</td>\n",
       "      <td>36.17</td>\n",
       "      <td>2.43</td>\n",
       "      <td>+</td>\n",
       "    </tr>\n",
       "    <tr>\n",
       "      <th>7</th>\n",
       "      <td>8</td>\n",
       "      <td>1</td>\n",
       "      <td>Tel Aviv Area</td>\n",
       "      <td>Israel</td>\n",
       "      <td>27.084</td>\n",
       "      <td>4.04</td>\n",
       "      <td>19.92</td>\n",
       "      <td>3.13</td>\n",
       "      <td>-</td>\n",
       "    </tr>\n",
       "    <tr>\n",
       "      <th>8</th>\n",
       "      <td>9</td>\n",
       "      <td>0</td>\n",
       "      <td>Moscow</td>\n",
       "      <td>Russia</td>\n",
       "      <td>25.401</td>\n",
       "      <td>7.37</td>\n",
       "      <td>15.64</td>\n",
       "      <td>2.39</td>\n",
       "      <td>NaN</td>\n",
       "    </tr>\n",
       "    <tr>\n",
       "      <th>9</th>\n",
       "      <td>10</td>\n",
       "      <td>4</td>\n",
       "      <td>Bangalore</td>\n",
       "      <td>India</td>\n",
       "      <td>25.367</td>\n",
       "      <td>5.04</td>\n",
       "      <td>17.95</td>\n",
       "      <td>2.38</td>\n",
       "      <td>+</td>\n",
       "    </tr>\n",
       "  </tbody>\n",
       "</table>\n",
       "</div>"
      ],
      "text/plain": [
       "   position change in position from 2020               city          country  \\\n",
       "0         1                            0  San Francisco Bay    United States   \n",
       "1         2                            0           New York    United States   \n",
       "2         3                            3            Beijing            China   \n",
       "3         4                            1   Los Angeles Area    United States   \n",
       "4         5                            2             London   United Kingdom   \n",
       "5         6                            2        Boston Area    United States   \n",
       "6         7                            3           Shanghai            China   \n",
       "7         8                            1      Tel Aviv Area           Israel   \n",
       "8         9                            0             Moscow           Russia   \n",
       "9        10                            4          Bangalore            India   \n",
       "\n",
       "   total score  quatity score  quality score  business score  \\\n",
       "0      328.966          29.14         296.02            3.80   \n",
       "1      110.777          11.43          95.55            3.80   \n",
       "2       66.049           5.01          58.61            2.43   \n",
       "3       58.441          11.23          43.41            3.80   \n",
       "4       56.913          15.77          37.44            3.70   \n",
       "5       49.835           5.50          40.53            3.80   \n",
       "6       42.162           3.57          36.17            2.43   \n",
       "7       27.084           4.04          19.92            3.13   \n",
       "8       25.401           7.37          15.64            2.39   \n",
       "9       25.367           5.04          17.95            2.38   \n",
       "\n",
       "  sign of change in position  \n",
       "0                        NaN  \n",
       "1                        NaN  \n",
       "2                          +  \n",
       "3                          +  \n",
       "4                          -  \n",
       "5                          -  \n",
       "6                          +  \n",
       "7                          -  \n",
       "8                        NaN  \n",
       "9                          +  "
      ]
     },
     "execution_count": 15,
     "metadata": {},
     "output_type": "execute_result"
    }
   ],
   "source": [
    "df = pd.read_csv('E:\\Data\\Best Cities for Startups.csv')\n",
    "df.head(10)"
   ]
  },
  {
   "cell_type": "code",
   "execution_count": 39,
   "id": "1848eee2",
   "metadata": {},
   "outputs": [],
   "source": [
    "pd.set_option('display.max_columns', 20)\n",
    "pd.set_option('display.max_rows', 1000)\n",
    "pd.set_option('display.width', 1000)"
   ]
  },
  {
   "cell_type": "code",
   "execution_count": 16,
   "id": "4309ca89",
   "metadata": {},
   "outputs": [
    {
     "data": {
      "text/html": [
       "<div>\n",
       "<style scoped>\n",
       "    .dataframe tbody tr th:only-of-type {\n",
       "        vertical-align: middle;\n",
       "    }\n",
       "\n",
       "    .dataframe tbody tr th {\n",
       "        vertical-align: top;\n",
       "    }\n",
       "\n",
       "    .dataframe thead th {\n",
       "        text-align: right;\n",
       "    }\n",
       "</style>\n",
       "<table border=\"1\" class=\"dataframe\">\n",
       "  <thead>\n",
       "    <tr style=\"text-align: right;\">\n",
       "      <th></th>\n",
       "      <th>position</th>\n",
       "      <th>total score</th>\n",
       "      <th>quatity score</th>\n",
       "      <th>quality score</th>\n",
       "      <th>business score</th>\n",
       "    </tr>\n",
       "  </thead>\n",
       "  <tbody>\n",
       "    <tr>\n",
       "      <th>count</th>\n",
       "      <td>1000.000000</td>\n",
       "      <td>1000.000000</td>\n",
       "      <td>1000.000000</td>\n",
       "      <td>1000.000000</td>\n",
       "      <td>1000.000000</td>\n",
       "    </tr>\n",
       "    <tr>\n",
       "      <th>mean</th>\n",
       "      <td>500.500000</td>\n",
       "      <td>2.433854</td>\n",
       "      <td>0.343920</td>\n",
       "      <td>1.223350</td>\n",
       "      <td>0.867160</td>\n",
       "    </tr>\n",
       "    <tr>\n",
       "      <th>std</th>\n",
       "      <td>288.819436</td>\n",
       "      <td>12.055121</td>\n",
       "      <td>1.347019</td>\n",
       "      <td>10.487355</td>\n",
       "      <td>1.148477</td>\n",
       "    </tr>\n",
       "    <tr>\n",
       "      <th>min</th>\n",
       "      <td>1.000000</td>\n",
       "      <td>0.037000</td>\n",
       "      <td>0.010000</td>\n",
       "      <td>0.010000</td>\n",
       "      <td>0.000000</td>\n",
       "    </tr>\n",
       "    <tr>\n",
       "      <th>25%</th>\n",
       "      <td>250.750000</td>\n",
       "      <td>0.190750</td>\n",
       "      <td>0.020000</td>\n",
       "      <td>0.030000</td>\n",
       "      <td>0.140000</td>\n",
       "    </tr>\n",
       "    <tr>\n",
       "      <th>50%</th>\n",
       "      <td>500.500000</td>\n",
       "      <td>0.367000</td>\n",
       "      <td>0.040000</td>\n",
       "      <td>0.040000</td>\n",
       "      <td>0.270000</td>\n",
       "    </tr>\n",
       "    <tr>\n",
       "      <th>75%</th>\n",
       "      <td>750.250000</td>\n",
       "      <td>1.362500</td>\n",
       "      <td>0.180000</td>\n",
       "      <td>0.140000</td>\n",
       "      <td>1.030000</td>\n",
       "    </tr>\n",
       "    <tr>\n",
       "      <th>max</th>\n",
       "      <td>1000.000000</td>\n",
       "      <td>328.966000</td>\n",
       "      <td>29.140000</td>\n",
       "      <td>296.020000</td>\n",
       "      <td>3.800000</td>\n",
       "    </tr>\n",
       "  </tbody>\n",
       "</table>\n",
       "</div>"
      ],
      "text/plain": [
       "          position  total score  quatity score  quality score  business score\n",
       "count  1000.000000  1000.000000    1000.000000    1000.000000     1000.000000\n",
       "mean    500.500000     2.433854       0.343920       1.223350        0.867160\n",
       "std     288.819436    12.055121       1.347019      10.487355        1.148477\n",
       "min       1.000000     0.037000       0.010000       0.010000        0.000000\n",
       "25%     250.750000     0.190750       0.020000       0.030000        0.140000\n",
       "50%     500.500000     0.367000       0.040000       0.040000        0.270000\n",
       "75%     750.250000     1.362500       0.180000       0.140000        1.030000\n",
       "max    1000.000000   328.966000      29.140000     296.020000        3.800000"
      ]
     },
     "execution_count": 16,
     "metadata": {},
     "output_type": "execute_result"
    }
   ],
   "source": [
    "df.describe()"
   ]
  },
  {
   "cell_type": "code",
   "execution_count": 18,
   "id": "bc65a00b",
   "metadata": {},
   "outputs": [
    {
     "data": {
      "text/plain": [
       "(1000, 9)"
      ]
     },
     "execution_count": 18,
     "metadata": {},
     "output_type": "execute_result"
    }
   ],
   "source": [
    "df.shape"
   ]
  },
  {
   "cell_type": "code",
   "execution_count": 19,
   "id": "1c0d15c6",
   "metadata": {},
   "outputs": [
    {
     "name": "stdout",
     "output_type": "stream",
     "text": [
      "<class 'pandas.core.frame.DataFrame'>\n",
      "RangeIndex: 1000 entries, 0 to 999\n",
      "Data columns (total 9 columns):\n",
      " #   Column                        Non-Null Count  Dtype  \n",
      "---  ------                        --------------  -----  \n",
      " 0   position                      1000 non-null   int64  \n",
      " 1   change in position from 2020  1000 non-null   object \n",
      " 2   city                          1000 non-null   object \n",
      " 3   country                       1000 non-null   object \n",
      " 4   total score                   1000 non-null   float64\n",
      " 5   quatity score                 1000 non-null   float64\n",
      " 6   quality score                 1000 non-null   float64\n",
      " 7   business score                1000 non-null   float64\n",
      " 8   sign of change in position    798 non-null    object \n",
      "dtypes: float64(4), int64(1), object(4)\n",
      "memory usage: 70.4+ KB\n"
     ]
    }
   ],
   "source": [
    "df.info()"
   ]
  },
  {
   "cell_type": "code",
   "execution_count": 23,
   "id": "d714f385",
   "metadata": {},
   "outputs": [
    {
     "data": {
      "text/plain": [
       "position                          0\n",
       "change in position from 2020      0\n",
       "city                              0\n",
       "country                           0\n",
       "total score                       0\n",
       "quatity score                     0\n",
       "quality score                     0\n",
       "business score                    0\n",
       "sign of change in position      202\n",
       "dtype: int64"
      ]
     },
     "execution_count": 23,
     "metadata": {},
     "output_type": "execute_result"
    }
   ],
   "source": [
    "df.isna().sum()"
   ]
  },
  {
   "cell_type": "code",
   "execution_count": 26,
   "id": "277c928a",
   "metadata": {},
   "outputs": [],
   "source": [
    "df = df.rename(columns = {'sign of change in position':'sign_change_in_position', 'change in position from 2020':'change_in_position','total score':'total_score','quatity score':'quatity_score','quality score':'quality_score','business score':'business_score'})"
   ]
  },
  {
   "cell_type": "code",
   "execution_count": 27,
   "id": "88664ae9",
   "metadata": {},
   "outputs": [],
   "source": [
    "df[\"sign_change_in_position\"] = df[\"sign_change_in_position\"].replace(np.nan,0)\n",
    "df['change_in_position'] = df['change_in_position'].replace(['new'],'0')\n",
    "df[\"sign_change_in_position\"] = df[\"sign_change_in_position\"].replace(['+'],1)\n",
    "df[\"sign_change_in_position\"] = df[\"sign_change_in_position\"].replace(['-'],-1)"
   ]
  },
  {
   "cell_type": "code",
   "execution_count": 28,
   "id": "55dfc4be",
   "metadata": {},
   "outputs": [
    {
     "name": "stdout",
     "output_type": "stream",
     "text": [
      "['position', 'change_in_position', 'city', 'country', 'total_score', 'quatity_score', 'quality_score', 'business_score', 'sign_change_in_position']\n",
      "<class 'pandas.core.frame.DataFrame'>\n",
      "RangeIndex: 1000 entries, 0 to 999\n",
      "Data columns (total 9 columns):\n",
      " #   Column                   Non-Null Count  Dtype  \n",
      "---  ------                   --------------  -----  \n",
      " 0   position                 1000 non-null   int64  \n",
      " 1   change_in_position       1000 non-null   object \n",
      " 2   city                     1000 non-null   object \n",
      " 3   country                  1000 non-null   object \n",
      " 4   total_score              1000 non-null   float64\n",
      " 5   quatity_score            1000 non-null   float64\n",
      " 6   quality_score            1000 non-null   float64\n",
      " 7   business_score           1000 non-null   float64\n",
      " 8   sign_change_in_position  1000 non-null   int64  \n",
      "dtypes: float64(4), int64(2), object(3)\n",
      "memory usage: 70.4+ KB\n",
      "None\n"
     ]
    }
   ],
   "source": [
    "print(df.columns.tolist())\n",
    "print(df.info())"
   ]
  },
  {
   "cell_type": "code",
   "execution_count": 32,
   "id": "c58cac63",
   "metadata": {},
   "outputs": [
    {
     "data": {
      "text/html": [
       "<div>\n",
       "<style scoped>\n",
       "    .dataframe tbody tr th:only-of-type {\n",
       "        vertical-align: middle;\n",
       "    }\n",
       "\n",
       "    .dataframe tbody tr th {\n",
       "        vertical-align: top;\n",
       "    }\n",
       "\n",
       "    .dataframe thead th {\n",
       "        text-align: right;\n",
       "    }\n",
       "</style>\n",
       "<table border=\"1\" class=\"dataframe\">\n",
       "  <thead>\n",
       "    <tr style=\"text-align: right;\">\n",
       "      <th></th>\n",
       "      <th>position</th>\n",
       "      <th>change_in_position</th>\n",
       "      <th>city</th>\n",
       "      <th>country</th>\n",
       "      <th>total_score</th>\n",
       "      <th>quatity_score</th>\n",
       "      <th>quality_score</th>\n",
       "      <th>business_score</th>\n",
       "      <th>sign_change_in_position</th>\n",
       "    </tr>\n",
       "  </thead>\n",
       "  <tbody>\n",
       "    <tr>\n",
       "      <th>0</th>\n",
       "      <td>1</td>\n",
       "      <td>0</td>\n",
       "      <td>San Francisco Bay</td>\n",
       "      <td>United States</td>\n",
       "      <td>328.966</td>\n",
       "      <td>29.14</td>\n",
       "      <td>296.02</td>\n",
       "      <td>3.80</td>\n",
       "      <td>0</td>\n",
       "    </tr>\n",
       "    <tr>\n",
       "      <th>1</th>\n",
       "      <td>2</td>\n",
       "      <td>0</td>\n",
       "      <td>New York</td>\n",
       "      <td>United States</td>\n",
       "      <td>110.777</td>\n",
       "      <td>11.43</td>\n",
       "      <td>95.55</td>\n",
       "      <td>3.80</td>\n",
       "      <td>0</td>\n",
       "    </tr>\n",
       "    <tr>\n",
       "      <th>2</th>\n",
       "      <td>3</td>\n",
       "      <td>3</td>\n",
       "      <td>Beijing</td>\n",
       "      <td>China</td>\n",
       "      <td>66.049</td>\n",
       "      <td>5.01</td>\n",
       "      <td>58.61</td>\n",
       "      <td>2.43</td>\n",
       "      <td>1</td>\n",
       "    </tr>\n",
       "    <tr>\n",
       "      <th>3</th>\n",
       "      <td>4</td>\n",
       "      <td>1</td>\n",
       "      <td>Los Angeles Area</td>\n",
       "      <td>United States</td>\n",
       "      <td>58.441</td>\n",
       "      <td>11.23</td>\n",
       "      <td>43.41</td>\n",
       "      <td>3.80</td>\n",
       "      <td>1</td>\n",
       "    </tr>\n",
       "    <tr>\n",
       "      <th>4</th>\n",
       "      <td>5</td>\n",
       "      <td>2</td>\n",
       "      <td>London</td>\n",
       "      <td>United Kingdom</td>\n",
       "      <td>56.913</td>\n",
       "      <td>15.77</td>\n",
       "      <td>37.44</td>\n",
       "      <td>3.70</td>\n",
       "      <td>-1</td>\n",
       "    </tr>\n",
       "    <tr>\n",
       "      <th>5</th>\n",
       "      <td>6</td>\n",
       "      <td>2</td>\n",
       "      <td>Boston Area</td>\n",
       "      <td>United States</td>\n",
       "      <td>49.835</td>\n",
       "      <td>5.50</td>\n",
       "      <td>40.53</td>\n",
       "      <td>3.80</td>\n",
       "      <td>-1</td>\n",
       "    </tr>\n",
       "    <tr>\n",
       "      <th>6</th>\n",
       "      <td>7</td>\n",
       "      <td>3</td>\n",
       "      <td>Shanghai</td>\n",
       "      <td>China</td>\n",
       "      <td>42.162</td>\n",
       "      <td>3.57</td>\n",
       "      <td>36.17</td>\n",
       "      <td>2.43</td>\n",
       "      <td>1</td>\n",
       "    </tr>\n",
       "    <tr>\n",
       "      <th>7</th>\n",
       "      <td>8</td>\n",
       "      <td>1</td>\n",
       "      <td>Tel Aviv Area</td>\n",
       "      <td>Israel</td>\n",
       "      <td>27.084</td>\n",
       "      <td>4.04</td>\n",
       "      <td>19.92</td>\n",
       "      <td>3.13</td>\n",
       "      <td>-1</td>\n",
       "    </tr>\n",
       "    <tr>\n",
       "      <th>8</th>\n",
       "      <td>9</td>\n",
       "      <td>0</td>\n",
       "      <td>Moscow</td>\n",
       "      <td>Russia</td>\n",
       "      <td>25.401</td>\n",
       "      <td>7.37</td>\n",
       "      <td>15.64</td>\n",
       "      <td>2.39</td>\n",
       "      <td>0</td>\n",
       "    </tr>\n",
       "    <tr>\n",
       "      <th>9</th>\n",
       "      <td>10</td>\n",
       "      <td>4</td>\n",
       "      <td>Bangalore</td>\n",
       "      <td>India</td>\n",
       "      <td>25.367</td>\n",
       "      <td>5.04</td>\n",
       "      <td>17.95</td>\n",
       "      <td>2.38</td>\n",
       "      <td>1</td>\n",
       "    </tr>\n",
       "    <tr>\n",
       "      <th>10</th>\n",
       "      <td>11</td>\n",
       "      <td>1</td>\n",
       "      <td>Paris</td>\n",
       "      <td>France</td>\n",
       "      <td>25.297</td>\n",
       "      <td>5.27</td>\n",
       "      <td>16.62</td>\n",
       "      <td>3.41</td>\n",
       "      <td>1</td>\n",
       "    </tr>\n",
       "    <tr>\n",
       "      <th>11</th>\n",
       "      <td>12</td>\n",
       "      <td>1</td>\n",
       "      <td>Seattle</td>\n",
       "      <td>United States</td>\n",
       "      <td>24.329</td>\n",
       "      <td>3.49</td>\n",
       "      <td>17.04</td>\n",
       "      <td>3.80</td>\n",
       "      <td>-1</td>\n",
       "    </tr>\n",
       "    <tr>\n",
       "      <th>12</th>\n",
       "      <td>13</td>\n",
       "      <td>5</td>\n",
       "      <td>Berlin</td>\n",
       "      <td>Germany</td>\n",
       "      <td>23.872</td>\n",
       "      <td>4.03</td>\n",
       "      <td>16.35</td>\n",
       "      <td>3.49</td>\n",
       "      <td>-1</td>\n",
       "    </tr>\n",
       "    <tr>\n",
       "      <th>13</th>\n",
       "      <td>14</td>\n",
       "      <td>1</td>\n",
       "      <td>New Delhi</td>\n",
       "      <td>India</td>\n",
       "      <td>22.379</td>\n",
       "      <td>5.88</td>\n",
       "      <td>13.90</td>\n",
       "      <td>2.61</td>\n",
       "      <td>1</td>\n",
       "    </tr>\n",
       "    <tr>\n",
       "      <th>14</th>\n",
       "      <td>15</td>\n",
       "      <td>1</td>\n",
       "      <td>Tokyo</td>\n",
       "      <td>Japan</td>\n",
       "      <td>21.792</td>\n",
       "      <td>2.50</td>\n",
       "      <td>16.00</td>\n",
       "      <td>3.30</td>\n",
       "      <td>1</td>\n",
       "    </tr>\n",
       "  </tbody>\n",
       "</table>\n",
       "</div>"
      ],
      "text/plain": [
       "    position change_in_position               city          country  \\\n",
       "0          1                  0  San Francisco Bay    United States   \n",
       "1          2                  0           New York    United States   \n",
       "2          3                  3            Beijing            China   \n",
       "3          4                  1   Los Angeles Area    United States   \n",
       "4          5                  2             London   United Kingdom   \n",
       "5          6                  2        Boston Area    United States   \n",
       "6          7                  3           Shanghai            China   \n",
       "7          8                  1      Tel Aviv Area           Israel   \n",
       "8          9                  0             Moscow           Russia   \n",
       "9         10                  4          Bangalore            India   \n",
       "10        11                  1              Paris           France   \n",
       "11        12                  1            Seattle    United States   \n",
       "12        13                  5             Berlin          Germany   \n",
       "13        14                  1          New Delhi            India   \n",
       "14        15                  1              Tokyo            Japan   \n",
       "\n",
       "    total_score  quatity_score  quality_score  business_score  \\\n",
       "0       328.966          29.14         296.02            3.80   \n",
       "1       110.777          11.43          95.55            3.80   \n",
       "2        66.049           5.01          58.61            2.43   \n",
       "3        58.441          11.23          43.41            3.80   \n",
       "4        56.913          15.77          37.44            3.70   \n",
       "5        49.835           5.50          40.53            3.80   \n",
       "6        42.162           3.57          36.17            2.43   \n",
       "7        27.084           4.04          19.92            3.13   \n",
       "8        25.401           7.37          15.64            2.39   \n",
       "9        25.367           5.04          17.95            2.38   \n",
       "10       25.297           5.27          16.62            3.41   \n",
       "11       24.329           3.49          17.04            3.80   \n",
       "12       23.872           4.03          16.35            3.49   \n",
       "13       22.379           5.88          13.90            2.61   \n",
       "14       21.792           2.50          16.00            3.30   \n",
       "\n",
       "    sign_change_in_position  \n",
       "0                         0  \n",
       "1                         0  \n",
       "2                         1  \n",
       "3                         1  \n",
       "4                        -1  \n",
       "5                        -1  \n",
       "6                         1  \n",
       "7                        -1  \n",
       "8                         0  \n",
       "9                         1  \n",
       "10                        1  \n",
       "11                       -1  \n",
       "12                       -1  \n",
       "13                        1  \n",
       "14                        1  "
      ]
     },
     "execution_count": 32,
     "metadata": {},
     "output_type": "execute_result"
    }
   ],
   "source": [
    "df.head(15)"
   ]
  },
  {
   "cell_type": "code",
   "execution_count": 35,
   "id": "ace5ef85",
   "metadata": {},
   "outputs": [
    {
     "data": {
      "text/html": [
       "<div>\n",
       "<style scoped>\n",
       "    .dataframe tbody tr th:only-of-type {\n",
       "        vertical-align: middle;\n",
       "    }\n",
       "\n",
       "    .dataframe tbody tr th {\n",
       "        vertical-align: top;\n",
       "    }\n",
       "\n",
       "    .dataframe thead th {\n",
       "        text-align: right;\n",
       "    }\n",
       "</style>\n",
       "<table border=\"1\" class=\"dataframe\">\n",
       "  <thead>\n",
       "    <tr style=\"text-align: right;\">\n",
       "      <th></th>\n",
       "      <th>city</th>\n",
       "      <th>total_score</th>\n",
       "    </tr>\n",
       "  </thead>\n",
       "  <tbody>\n",
       "    <tr>\n",
       "      <th>0</th>\n",
       "      <td>San Francisco Bay</td>\n",
       "      <td>328.966</td>\n",
       "    </tr>\n",
       "    <tr>\n",
       "      <th>1</th>\n",
       "      <td>New York</td>\n",
       "      <td>110.777</td>\n",
       "    </tr>\n",
       "    <tr>\n",
       "      <th>2</th>\n",
       "      <td>Beijing</td>\n",
       "      <td>66.049</td>\n",
       "    </tr>\n",
       "    <tr>\n",
       "      <th>3</th>\n",
       "      <td>Los Angeles Area</td>\n",
       "      <td>58.441</td>\n",
       "    </tr>\n",
       "    <tr>\n",
       "      <th>4</th>\n",
       "      <td>London</td>\n",
       "      <td>56.913</td>\n",
       "    </tr>\n",
       "    <tr>\n",
       "      <th>5</th>\n",
       "      <td>Boston Area</td>\n",
       "      <td>49.835</td>\n",
       "    </tr>\n",
       "    <tr>\n",
       "      <th>6</th>\n",
       "      <td>Shanghai</td>\n",
       "      <td>42.162</td>\n",
       "    </tr>\n",
       "    <tr>\n",
       "      <th>7</th>\n",
       "      <td>Tel Aviv Area</td>\n",
       "      <td>27.084</td>\n",
       "    </tr>\n",
       "    <tr>\n",
       "      <th>8</th>\n",
       "      <td>Moscow</td>\n",
       "      <td>25.401</td>\n",
       "    </tr>\n",
       "    <tr>\n",
       "      <th>9</th>\n",
       "      <td>Bangalore</td>\n",
       "      <td>25.367</td>\n",
       "    </tr>\n",
       "    <tr>\n",
       "      <th>10</th>\n",
       "      <td>Paris</td>\n",
       "      <td>25.297</td>\n",
       "    </tr>\n",
       "  </tbody>\n",
       "</table>\n",
       "</div>"
      ],
      "text/plain": [
       "                 city  total_score\n",
       "0   San Francisco Bay      328.966\n",
       "1            New York      110.777\n",
       "2             Beijing       66.049\n",
       "3    Los Angeles Area       58.441\n",
       "4              London       56.913\n",
       "5         Boston Area       49.835\n",
       "6            Shanghai       42.162\n",
       "7       Tel Aviv Area       27.084\n",
       "8              Moscow       25.401\n",
       "9           Bangalore       25.367\n",
       "10              Paris       25.297"
      ]
     },
     "execution_count": 35,
     "metadata": {},
     "output_type": "execute_result"
    }
   ],
   "source": [
    "df.loc[0:10, [\"city\", \"total_score\"]]"
   ]
  },
  {
   "cell_type": "code",
   "execution_count": 36,
   "id": "6b744150",
   "metadata": {},
   "outputs": [
    {
     "data": {
      "text/html": [
       "<div>\n",
       "<style scoped>\n",
       "    .dataframe tbody tr th:only-of-type {\n",
       "        vertical-align: middle;\n",
       "    }\n",
       "\n",
       "    .dataframe tbody tr th {\n",
       "        vertical-align: top;\n",
       "    }\n",
       "\n",
       "    .dataframe thead th {\n",
       "        text-align: right;\n",
       "    }\n",
       "</style>\n",
       "<table border=\"1\" class=\"dataframe\">\n",
       "  <thead>\n",
       "    <tr style=\"text-align: right;\">\n",
       "      <th></th>\n",
       "      <th>city</th>\n",
       "    </tr>\n",
       "    <tr>\n",
       "      <th>country</th>\n",
       "      <th></th>\n",
       "    </tr>\n",
       "  </thead>\n",
       "  <tbody>\n",
       "    <tr>\n",
       "      <th>Afghanistan</th>\n",
       "      <td>1</td>\n",
       "    </tr>\n",
       "    <tr>\n",
       "      <th>Albania</th>\n",
       "      <td>1</td>\n",
       "    </tr>\n",
       "    <tr>\n",
       "      <th>Algeria</th>\n",
       "      <td>1</td>\n",
       "    </tr>\n",
       "    <tr>\n",
       "      <th>Andorra</th>\n",
       "      <td>1</td>\n",
       "    </tr>\n",
       "    <tr>\n",
       "      <th>Angola</th>\n",
       "      <td>1</td>\n",
       "    </tr>\n",
       "    <tr>\n",
       "      <th>...</th>\n",
       "      <td>...</td>\n",
       "    </tr>\n",
       "    <tr>\n",
       "      <th>Venezuela</th>\n",
       "      <td>1</td>\n",
       "    </tr>\n",
       "    <tr>\n",
       "      <th>Vietnam</th>\n",
       "      <td>2</td>\n",
       "    </tr>\n",
       "    <tr>\n",
       "      <th>Yemen</th>\n",
       "      <td>1</td>\n",
       "    </tr>\n",
       "    <tr>\n",
       "      <th>Zambia</th>\n",
       "      <td>1</td>\n",
       "    </tr>\n",
       "    <tr>\n",
       "      <th>Zimbabwe</th>\n",
       "      <td>1</td>\n",
       "    </tr>\n",
       "  </tbody>\n",
       "</table>\n",
       "<p>140 rows × 1 columns</p>\n",
       "</div>"
      ],
      "text/plain": [
       "              city\n",
       "country           \n",
       " Afghanistan     1\n",
       " Albania         1\n",
       " Algeria         1\n",
       " Andorra         1\n",
       " Angola          1\n",
       "...            ...\n",
       " Venezuela       1\n",
       " Vietnam         2\n",
       " Yemen           1\n",
       " Zambia          1\n",
       " Zimbabwe        1\n",
       "\n",
       "[140 rows x 1 columns]"
      ]
     },
     "execution_count": 36,
     "metadata": {},
     "output_type": "execute_result"
    }
   ],
   "source": [
    "dfg= df.groupby('country').count()\n",
    "dfg.iloc[:,[2]]"
   ]
  },
  {
   "cell_type": "code",
   "execution_count": 37,
   "id": "fbddbcb8",
   "metadata": {},
   "outputs": [
    {
     "name": "stdout",
     "output_type": "stream",
     "text": [
      "140\n"
     ]
    }
   ],
   "source": [
    "countries = df.country.unique()\n",
    "print(len(countries))"
   ]
  },
  {
   "cell_type": "code",
   "execution_count": 40,
   "id": "9f928954",
   "metadata": {},
   "outputs": [
    {
     "data": {
      "text/plain": [
       " United States                       267\n",
       " United Kingdom                       58\n",
       " India                                43\n",
       " Germany                              42\n",
       " China                                40\n",
       " Italy                                34\n",
       " Brazil                               32\n",
       " Canada                               30\n",
       " Spain                                28\n",
       " France                               24\n",
       " The Netherlands                      22\n",
       " Mexico                               17\n",
       " Russia                               16\n",
       " Poland                               14\n",
       " Switzerland                          14\n",
       " Australia                            12\n",
       " Israel                               11\n",
       " Sweden                               10\n",
       " Belgium                               9\n",
       " Turkey                                9\n",
       " Japan                                 8\n",
       " Pakistan                              7\n",
       " Denmark                               7\n",
       " Nigeria                               7\n",
       " Romania                               7\n",
       " Indonesia                             7\n",
       " Ireland                               6\n",
       " Ukraine                               6\n",
       " Finland                               6\n",
       " Taiwan                                6\n",
       " Croatia                               6\n",
       " Portugal                              6\n",
       " Austria                               6\n",
       " Hungary                               5\n",
       " Philippines                           5\n",
       " Argentina                             5\n",
       " South Korea                           5\n",
       " Malaysia                              5\n",
       " Greece                                4\n",
       " South Africa                          4\n",
       " Saudi Arabia                          4\n",
       " Cyprus                                4\n",
       " Norway                                4\n",
       " New Zealand                           4\n",
       " Chile                                 4\n",
       " Czechia                               4\n",
       " Colombia                              4\n",
       " Thailand                              4\n",
       " Cameroon                              3\n",
       " Lithuania                             3\n",
       " Morocco                               3\n",
       " Bangladesh                            3\n",
       " United Arab Emirates                  3\n",
       " Bulgaria                              3\n",
       " Slovenia                              3\n",
       " Malta                                 2\n",
       " Kazakhstan                            2\n",
       " Estonia                               2\n",
       " Slovakia                              2\n",
       " Ecuador                               2\n",
       " Luxembourg                            2\n",
       " Egypt                                 2\n",
       " Vietnam                               2\n",
       " Somalia                               2\n",
       " Kenya                                 2\n",
       " Jamaica                               2\n",
       " Serbia                                2\n",
       " Angola                                1\n",
       " Bosnia and Herzegovina                1\n",
       " Palestine                             1\n",
       " Nicaragua                             1\n",
       " Tanzania                              1\n",
       " Madagascar                            1\n",
       " Seychelles                            1\n",
       " Zimbabwe                              1\n",
       " El Salvador                           1\n",
       " Uzbekistan                            1\n",
       " Zambia                                1\n",
       " Namibia                               1\n",
       " Gibraltar                             1\n",
       " Senegal                               1\n",
       " Andorra                               1\n",
       " Iraq                                  1\n",
       " Mali                                  1\n",
       " Democratic Republic of the Congo      1\n",
       " Guinea                                1\n",
       " Swaziland                             1\n",
       " Guatemala                             1\n",
       " Burkina Faso                          1\n",
       " Benin                                 1\n",
       " Barbados                              1\n",
       " Isle of Man                           1\n",
       " Haiti                                 1\n",
       " Honduras                              1\n",
       " Guernsey                              1\n",
       " Afghanistan                           1\n",
       " Algeria                               1\n",
       " Mozambique                            1\n",
       " Bolivia                               1\n",
       " Belize                                1\n",
       " Botswana                              1\n",
       " Cape Verde                            1\n",
       " Costa Rica                            1\n",
       " Cambodia                              1\n",
       " Uganda                                1\n",
       " Lebanon                               1\n",
       " Puerto Rico                           1\n",
       " Tunisia                               1\n",
       " Bahrain                               1\n",
       " Armenia                               1\n",
       " Ghana                                 1\n",
       " North Macedonia                       1\n",
       " Rwanda                                1\n",
       " Belarus                               1\n",
       " Iceland                               1\n",
       " Jordan                                1\n",
       " Uruguay                               1\n",
       " Latvia                                1\n",
       " Peru                                  1\n",
       " Singapore                             1\n",
       " Jersey                                1\n",
       " Sri Lanka                             1\n",
       " Ivory Coast                           1\n",
       " Georgia                               1\n",
       " Paraguay                              1\n",
       " Dominican Republic                    1\n",
       " Moldova                               1\n",
       " Venezuela                             1\n",
       " Iran                                  1\n",
       " Ethiopia                              1\n",
       " Myanmar                               1\n",
       " Mongolia                              1\n",
       " Albania                               1\n",
       " Kuwait                                1\n",
       " Panama                                1\n",
       " Qatar                                 1\n",
       " Liechtenstein                         1\n",
       " Nepal                                 1\n",
       " Azerbaijan                            1\n",
       " Yemen                                 1\n",
       "Name: country, dtype: int64"
      ]
     },
     "execution_count": 40,
     "metadata": {},
     "output_type": "execute_result"
    }
   ],
   "source": [
    "df.country.value_counts()"
   ]
  },
  {
   "cell_type": "code",
   "execution_count": 43,
   "id": "8d7c83d4",
   "metadata": {},
   "outputs": [
    {
     "data": {
      "text/plain": [
       "position                     1000\n",
       "change_in_position              0\n",
       "city                        Sanaa\n",
       "country                     Yemen\n",
       "total_score                 0.037\n",
       "quatity_score                0.01\n",
       "quality_score                0.02\n",
       "business_score               0.01\n",
       "sign_change_in_position         0\n",
       "Name: 999, dtype: object"
      ]
     },
     "execution_count": 43,
     "metadata": {},
     "output_type": "execute_result"
    }
   ],
   "source": [
    "df.iloc[df['position'].idxmax()]"
   ]
  },
  {
   "cell_type": "code",
   "execution_count": 42,
   "id": "ca3af524",
   "metadata": {},
   "outputs": [
    {
     "data": {
      "text/plain": [
       "position                                   1\n",
       "change_in_position                         0\n",
       "city                       San Francisco Bay\n",
       "country                        United States\n",
       "total_score                          328.966\n",
       "quatity_score                          29.14\n",
       "quality_score                         296.02\n",
       "business_score                           3.8\n",
       "sign_change_in_position                    0\n",
       "Name: 0, dtype: object"
      ]
     },
     "execution_count": 42,
     "metadata": {},
     "output_type": "execute_result"
    }
   ],
   "source": [
    "df.iloc[df['position'].idxmin()]"
   ]
  },
  {
   "cell_type": "code",
   "execution_count": 49,
   "id": "21d8229b",
   "metadata": {},
   "outputs": [
    {
     "data": {
      "image/png": "[encoded data removed]",
      "text/plain": [
       "<Figure size 1440x864 with 1 Axes>"
      ]
     },
     "metadata": {},
     "output_type": "display_data"
    }
   ],
   "source": [
    "plt.figure(figsize= (20,12))\n",
    "sns.histplot(df.country)\n",
    "plt.show()"
   ]
  },
  {
   "cell_type": "code",
   "execution_count": 51,
   "id": "bcb48ae8",
   "metadata": {},
   "outputs": [
    {
     "data": {
      "image/png": "[encoded data removed]",
      "text/plain": [
       "<Figure size 432x288 with 1 Axes>"
      ]
     },
     "metadata": {},
     "output_type": "display_data"
    }
   ],
   "source": [
    "plt.figure(figsize= (20,12))\n",
    "plt.plot(df['change_in_position'], df['city'])\n",
    "plt.show()"
   ]
  },
  {
   "cell_type": "code",
   "execution_count": 52,
   "id": "b4635e7c",
   "metadata": {},
   "outputs": [],
   "source": [
    "df_data = df.iloc[:, 4:8]\n",
    "\n",
    "df_target = df.loc[: ,['sign_change_in_position']]\n"
   ]
  },
  {
   "cell_type": "code",
   "execution_count": 53,
   "id": "d477e59f",
   "metadata": {},
   "outputs": [],
   "source": [
    "X_train,X_test,Y_train,Y_test = train_test_split(df_data, df_target, train_size=0.8)"
   ]
  },
  {
   "cell_type": "code",
   "execution_count": 11,
   "id": "b68b23aa",
   "metadata": {},
   "outputs": [
    {
     "data": {
      "text/plain": [
       "DecisionTreeClassifier(max_depth=3, random_state=42)"
      ]
     },
     "execution_count": 11,
     "metadata": {},
     "output_type": "execute_result"
    }
   ],
   "source": [
    "model = tree.DecisionTreeClassifier(max_depth=3, random_state=42)\n",
    "model.fit(df_data, df_target)"
   ]
  },
  {
   "cell_type": "code",
   "execution_count": 54,
   "id": "026c78a1",
   "metadata": {},
   "outputs": [
    {
     "data": {
      "text/plain": [
       "[Text(558.0, 570.7800000000001, 'X[1] <= 0.025\\ngini = 0.64\\nsamples = 1000\\nvalue = [414, 202, 384]'),\n",
       " Text(279.0, 407.70000000000005, 'X[2] <= 0.025\\ngini = 0.655\\nsamples = 343\\nvalue = [107, 143, 93]'),\n",
       " Text(139.5, 244.62, 'X[0] <= 0.119\\ngini = 0.616\\nsamples = 153\\nvalue = [63, 67, 23]'),\n",
       " Text(69.75, 81.53999999999996, 'gini = 0.604\\nsamples = 41\\nvalue = [9, 22, 10]'),\n",
       " Text(209.25, 81.53999999999996, 'gini = 0.593\\nsamples = 112\\nvalue = [54, 45, 13]'),\n",
       " Text(418.5, 244.62, 'X[0] <= 0.275\\ngini = 0.651\\nsamples = 190\\nvalue = [44, 76, 70]'),\n",
       " Text(348.75, 81.53999999999996, 'gini = 0.659\\nsamples = 147\\nvalue = [41, 59, 47]'),\n",
       " Text(488.25, 81.53999999999996, 'gini = 0.553\\nsamples = 43\\nvalue = [3, 17, 23]'),\n",
       " Text(837.0, 407.70000000000005, 'X[2] <= 0.025\\ngini = 0.577\\nsamples = 657\\nvalue = [307, 59, 291]'),\n",
       " Text(697.5, 244.62, 'X[3] <= 0.155\\ngini = 0.512\\nsamples = 52\\nvalue = [34, 10, 8]'),\n",
       " Text(627.75, 81.53999999999996, 'gini = 0.615\\nsamples = 26\\nvalue = [12, 10, 4]'),\n",
       " Text(767.25, 81.53999999999996, 'gini = 0.26\\nsamples = 26\\nvalue = [22, 0, 4]'),\n",
       " Text(976.5, 244.62, 'X[1] <= 0.065\\ngini = 0.571\\nsamples = 605\\nvalue = [273, 49, 283]'),\n",
       " Text(906.75, 81.53999999999996, 'gini = 0.629\\nsamples = 183\\nvalue = [63, 35, 85]'),\n",
       " Text(1046.25, 81.53999999999996, 'gini = 0.531\\nsamples = 422\\nvalue = [210, 14, 198]')]"
      ]
     },
     "execution_count": 54,
     "metadata": {},
     "output_type": "execute_result"
    },
    {
     "data": {
      "image/png": "[encoded data removed]",
      "text/plain": [
       "<Figure size 1440x864 with 1 Axes>"
      ]
     },
     "metadata": {},
     "output_type": "display_data"
    }
   ],
   "source": [
    "plt.figure(figsize= (20,12))\n",
    "tree.plot_tree(model)"
   ]
  },
  {
   "cell_type": "code",
   "execution_count": 55,
   "id": "b3116b17",
   "metadata": {},
   "outputs": [
    {
     "data": {
      "text/plain": [
       "0.487"
      ]
     },
     "execution_count": 55,
     "metadata": {},
     "output_type": "execute_result"
    }
   ],
   "source": [
    "model.score(df_data,df_target)"
   ]
  },
  {
   "cell_type": "code",
   "execution_count": 72,
   "id": "d59d0f2e",
   "metadata": {},
   "outputs": [],
   "source": [
    "x = df.total_score\n",
    "\n",
    "y = df.sign_change_in_position"
   ]
  },
  {
   "cell_type": "code",
   "execution_count": null,
   "id": "d858a936",
   "metadata": {},
   "outputs": [],
   "source": []
  },
  {
   "cell_type": "code",
   "execution_count": 68,
   "id": "cb61c85c",
   "metadata": {},
   "outputs": [
    {
     "data": {
      "text/plain": [
       "array([[42.641646]])"
      ]
     },
     "execution_count": 68,
     "metadata": {},
     "output_type": "execute_result"
    }
   ],
   "source": [
    "reg.predict([[5,8,3,1]])"
   ]
  },
  {
   "cell_type": "code",
   "execution_count": 69,
   "id": "a4e77497",
   "metadata": {},
   "outputs": [],
   "source": [
    "y_pred = reg.predict(df_data)"
   ]
  },
  {
   "cell_type": "code",
   "execution_count": 74,
   "id": "d3fe729e",
   "metadata": {},
   "outputs": [
    {
     "ename": "ImportError",
     "evalue": "cannot import name 'kNeighborsClassifier' from 'sklearn.neighbors' (C:\\Users\\Danish Iqbal\\anaconda3\\lib\\site-packages\\sklearn\\neighbors\\__init__.py)",
     "output_type": "error",
     "traceback": [
      "\u001b[1;31m---------------------------------------------------------------------------\u001b[0m",
      "\u001b[1;31mImportError\u001b[0m                               Traceback (most recent call last)",
      "\u001b[1;32mC:\\Users\\DANISH~1\\AppData\\Local\\Temp/ipykernel_19248/3557875061.py\u001b[0m in \u001b[0;36m<module>\u001b[1;34m\u001b[0m\n\u001b[1;32m----> 1\u001b[1;33m \u001b[1;32mfrom\u001b[0m \u001b[0msklearn\u001b[0m\u001b[1;33m.\u001b[0m\u001b[0mneighbors\u001b[0m \u001b[1;32mimport\u001b[0m \u001b[0mkNeighborsClassifier\u001b[0m\u001b[1;33m\u001b[0m\u001b[1;33m\u001b[0m\u001b[0m\n\u001b[0m\u001b[0;32m      2\u001b[0m \u001b[1;33m\u001b[0m\u001b[0m\n\u001b[0;32m      3\u001b[0m \u001b[0mknn\u001b[0m \u001b[1;33m=\u001b[0m \u001b[0mkNeighborsClassifier\u001b[0m\u001b[1;33m(\u001b[0m\u001b[0mn_neighbor\u001b[0m\u001b[1;33m=\u001b[0m \u001b[1;36m5\u001b[0m\u001b[1;33m)\u001b[0m\u001b[1;33m\u001b[0m\u001b[1;33m\u001b[0m\u001b[0m\n",
      "\u001b[1;31mImportError\u001b[0m: cannot import name 'kNeighborsClassifier' from 'sklearn.neighbors' (C:\\Users\\Danish Iqbal\\anaconda3\\lib\\site-packages\\sklearn\\neighbors\\__init__.py)"
     ]
    }
   ],
   "source": [
    "from sklearn.neighbors import kNeighborsClassifier\n",
    "\n",
    "knn = kNeighborsClassifier(n_neighbor= 5)"
   ]
  },
  {
   "cell_type": "code",
   "execution_count": 77,
   "id": "67def945",
   "metadata": {},
   "outputs": [],
   "source": [
    "from sklearn.naive_bayes import GaussianNB\n",
    "\n",
    "NB = GaussianNB()"
   ]
  },
  {
   "cell_type": "code",
   "execution_count": 78,
   "id": "d657ae45",
   "metadata": {},
   "outputs": [
    {
     "name": "stderr",
     "output_type": "stream",
     "text": [
      "C:\\Users\\Danish Iqbal\\anaconda3\\lib\\site-packages\\sklearn\\utils\\validation.py:63: DataConversionWarning: A column-vector y was passed when a 1d array was expected. Please change the shape of y to (n_samples, ), for example using ravel().\n",
      "  return f(*args, **kwargs)\n"
     ]
    },
    {
     "data": {
      "text/plain": [
       "GaussianNB()"
      ]
     },
     "execution_count": 78,
     "metadata": {},
     "output_type": "execute_result"
    }
   ],
   "source": [
    "NB.fit(df_data, df_target)"
   ]
  },
  {
   "cell_type": "code",
   "execution_count": 79,
   "id": "ce54619d",
   "metadata": {},
   "outputs": [
    {
     "data": {
      "text/plain": [
       "0.431"
      ]
     },
     "execution_count": 79,
     "metadata": {},
     "output_type": "execute_result"
    }
   ],
   "source": [
    "NB.score(df_data, df_target)"
   ]
  },
  {
   "cell_type": "code",
   "execution_count": 81,
   "id": "ecdb6763",
   "metadata": {},
   "outputs": [
    {
     "ename": "ValueError",
     "evalue": "Expected 2D array, got scalar array instead:\narray=1.\nReshape your data either using array.reshape(-1, 1) if your data has a single feature or array.reshape(1, -1) if it contains a single sample.",
     "output_type": "error",
     "traceback": [
      "\u001b[1;31m---------------------------------------------------------------------------\u001b[0m",
      "\u001b[1;31mValueError\u001b[0m                                Traceback (most recent call last)",
      "\u001b[1;32mC:\\Users\\DANISH~1\\AppData\\Local\\Temp/ipykernel_19248/3203290634.py\u001b[0m in \u001b[0;36m<module>\u001b[1;34m\u001b[0m\n\u001b[1;32m----> 1\u001b[1;33m \u001b[0mNB\u001b[0m\u001b[1;33m.\u001b[0m\u001b[0mpredict\u001b[0m\u001b[1;33m(\u001b[0m\u001b[1;36m1\u001b[0m\u001b[1;33m)\u001b[0m\u001b[1;33m\u001b[0m\u001b[1;33m\u001b[0m\u001b[0m\n\u001b[0m",
      "\u001b[1;32m~\\anaconda3\\lib\\site-packages\\sklearn\\naive_bayes.py\u001b[0m in \u001b[0;36mpredict\u001b[1;34m(self, X)\u001b[0m\n\u001b[0;32m     72\u001b[0m         \"\"\"\n\u001b[0;32m     73\u001b[0m         \u001b[0mcheck_is_fitted\u001b[0m\u001b[1;33m(\u001b[0m\u001b[0mself\u001b[0m\u001b[1;33m)\u001b[0m\u001b[1;33m\u001b[0m\u001b[1;33m\u001b[0m\u001b[0m\n\u001b[1;32m---> 74\u001b[1;33m         \u001b[0mX\u001b[0m \u001b[1;33m=\u001b[0m \u001b[0mself\u001b[0m\u001b[1;33m.\u001b[0m\u001b[0m_check_X\u001b[0m\u001b[1;33m(\u001b[0m\u001b[0mX\u001b[0m\u001b[1;33m)\u001b[0m\u001b[1;33m\u001b[0m\u001b[1;33m\u001b[0m\u001b[0m\n\u001b[0m\u001b[0;32m     75\u001b[0m         \u001b[0mjll\u001b[0m \u001b[1;33m=\u001b[0m \u001b[0mself\u001b[0m\u001b[1;33m.\u001b[0m\u001b[0m_joint_log_likelihood\u001b[0m\u001b[1;33m(\u001b[0m\u001b[0mX\u001b[0m\u001b[1;33m)\u001b[0m\u001b[1;33m\u001b[0m\u001b[1;33m\u001b[0m\u001b[0m\n\u001b[0;32m     76\u001b[0m         \u001b[1;32mreturn\u001b[0m \u001b[0mself\u001b[0m\u001b[1;33m.\u001b[0m\u001b[0mclasses_\u001b[0m\u001b[1;33m[\u001b[0m\u001b[0mnp\u001b[0m\u001b[1;33m.\u001b[0m\u001b[0margmax\u001b[0m\u001b[1;33m(\u001b[0m\u001b[0mjll\u001b[0m\u001b[1;33m,\u001b[0m \u001b[0maxis\u001b[0m\u001b[1;33m=\u001b[0m\u001b[1;36m1\u001b[0m\u001b[1;33m)\u001b[0m\u001b[1;33m]\u001b[0m\u001b[1;33m\u001b[0m\u001b[1;33m\u001b[0m\u001b[0m\n",
      "\u001b[1;32m~\\anaconda3\\lib\\site-packages\\sklearn\\naive_bayes.py\u001b[0m in \u001b[0;36m_check_X\u001b[1;34m(self, X)\u001b[0m\n\u001b[0;32m    211\u001b[0m \u001b[1;33m\u001b[0m\u001b[0m\n\u001b[0;32m    212\u001b[0m     \u001b[1;32mdef\u001b[0m \u001b[0m_check_X\u001b[0m\u001b[1;33m(\u001b[0m\u001b[0mself\u001b[0m\u001b[1;33m,\u001b[0m \u001b[0mX\u001b[0m\u001b[1;33m)\u001b[0m\u001b[1;33m:\u001b[0m\u001b[1;33m\u001b[0m\u001b[1;33m\u001b[0m\u001b[0m\n\u001b[1;32m--> 213\u001b[1;33m         \u001b[1;32mreturn\u001b[0m \u001b[0mcheck_array\u001b[0m\u001b[1;33m(\u001b[0m\u001b[0mX\u001b[0m\u001b[1;33m)\u001b[0m\u001b[1;33m\u001b[0m\u001b[1;33m\u001b[0m\u001b[0m\n\u001b[0m\u001b[0;32m    214\u001b[0m \u001b[1;33m\u001b[0m\u001b[0m\n\u001b[0;32m    215\u001b[0m     \u001b[1;33m@\u001b[0m\u001b[0mstaticmethod\u001b[0m\u001b[1;33m\u001b[0m\u001b[1;33m\u001b[0m\u001b[0m\n",
      "\u001b[1;32m~\\anaconda3\\lib\\site-packages\\sklearn\\utils\\validation.py\u001b[0m in \u001b[0;36minner_f\u001b[1;34m(*args, **kwargs)\u001b[0m\n\u001b[0;32m     61\u001b[0m             \u001b[0mextra_args\u001b[0m \u001b[1;33m=\u001b[0m \u001b[0mlen\u001b[0m\u001b[1;33m(\u001b[0m\u001b[0margs\u001b[0m\u001b[1;33m)\u001b[0m \u001b[1;33m-\u001b[0m \u001b[0mlen\u001b[0m\u001b[1;33m(\u001b[0m\u001b[0mall_args\u001b[0m\u001b[1;33m)\u001b[0m\u001b[1;33m\u001b[0m\u001b[1;33m\u001b[0m\u001b[0m\n\u001b[0;32m     62\u001b[0m             \u001b[1;32mif\u001b[0m \u001b[0mextra_args\u001b[0m \u001b[1;33m<=\u001b[0m \u001b[1;36m0\u001b[0m\u001b[1;33m:\u001b[0m\u001b[1;33m\u001b[0m\u001b[1;33m\u001b[0m\u001b[0m\n\u001b[1;32m---> 63\u001b[1;33m                 \u001b[1;32mreturn\u001b[0m \u001b[0mf\u001b[0m\u001b[1;33m(\u001b[0m\u001b[1;33m*\u001b[0m\u001b[0margs\u001b[0m\u001b[1;33m,\u001b[0m \u001b[1;33m**\u001b[0m\u001b[0mkwargs\u001b[0m\u001b[1;33m)\u001b[0m\u001b[1;33m\u001b[0m\u001b[1;33m\u001b[0m\u001b[0m\n\u001b[0m\u001b[0;32m     64\u001b[0m \u001b[1;33m\u001b[0m\u001b[0m\n\u001b[0;32m     65\u001b[0m             \u001b[1;31m# extra_args > 0\u001b[0m\u001b[1;33m\u001b[0m\u001b[1;33m\u001b[0m\u001b[0m\n",
      "\u001b[1;32m~\\anaconda3\\lib\\site-packages\\sklearn\\utils\\validation.py\u001b[0m in \u001b[0;36mcheck_array\u001b[1;34m(array, accept_sparse, accept_large_sparse, dtype, order, copy, force_all_finite, ensure_2d, allow_nd, ensure_min_samples, ensure_min_features, estimator)\u001b[0m\n\u001b[0;32m    685\u001b[0m             \u001b[1;31m# If input is scalar raise error\u001b[0m\u001b[1;33m\u001b[0m\u001b[1;33m\u001b[0m\u001b[0m\n\u001b[0;32m    686\u001b[0m             \u001b[1;32mif\u001b[0m \u001b[0marray\u001b[0m\u001b[1;33m.\u001b[0m\u001b[0mndim\u001b[0m \u001b[1;33m==\u001b[0m \u001b[1;36m0\u001b[0m\u001b[1;33m:\u001b[0m\u001b[1;33m\u001b[0m\u001b[1;33m\u001b[0m\u001b[0m\n\u001b[1;32m--> 687\u001b[1;33m                 raise ValueError(\n\u001b[0m\u001b[0;32m    688\u001b[0m                     \u001b[1;34m\"Expected 2D array, got scalar array instead:\\narray={}.\\n\"\u001b[0m\u001b[1;33m\u001b[0m\u001b[1;33m\u001b[0m\u001b[0m\n\u001b[0;32m    689\u001b[0m                     \u001b[1;34m\"Reshape your data either using array.reshape(-1, 1) if \"\u001b[0m\u001b[1;33m\u001b[0m\u001b[1;33m\u001b[0m\u001b[0m\n",
      "\u001b[1;31mValueError\u001b[0m: Expected 2D array, got scalar array instead:\narray=1.\nReshape your data either using array.reshape(-1, 1) if your data has a single feature or array.reshape(1, -1) if it contains a single sample."
     ]
    }
   ],
   "source": []
  },
  {
   "cell_type": "code",
   "execution_count": null,
   "id": "3e27e00e",
   "metadata": {},
   "outputs": [],
   "source": []
  }
 ],
 "metadata": {
  "kernelspec": {
   "display_name": "Python 3 (ipykernel)",
   "language": "python",
   "name": "python3"
  },
  "language_info": {
   "codemirror_mode": {
    "name": "ipython",
    "version": 3
   },
   "file_extension": ".py",
   "mimetype": "text/x-python",
   "name": "python",
   "nbconvert_exporter": "python",
   "pygments_lexer": "ipython3",
   "version": "3.9.7"
  }
 },
 "nbformat": 4,
 "nbformat_minor": 5
}
